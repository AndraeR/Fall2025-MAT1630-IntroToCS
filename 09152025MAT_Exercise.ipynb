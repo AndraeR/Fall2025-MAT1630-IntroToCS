{
  "nbformat": 4,
  "nbformat_minor": 0,
  "metadata": {
    "colab": {
      "provenance": [],
      "authorship_tag": "ABX9TyOujFcKIKZtenDG+xFZQ6F4",
      "include_colab_link": true
    },
    "kernelspec": {
      "name": "python3",
      "display_name": "Python 3"
    },
    "language_info": {
      "name": "python"
    }
  },
  "cells": [
    {
      "cell_type": "markdown",
      "metadata": {
        "id": "view-in-github",
        "colab_type": "text"
      },
      "source": [
        "<a href=\"https://colab.research.google.com/github/AndraeR/Fall2025-MAT1630-IntroToCS/blob/main/09152025MAT_Exercise.ipynb\" target=\"_parent\"><img src=\"https://colab.research.google.com/assets/colab-badge.svg\" alt=\"Open In Colab\"/></a>"
      ]
    },
    {
      "cell_type": "code",
      "execution_count": 4,
      "metadata": {
        "colab": {
          "base_uri": "https://localhost:8080/"
        },
        "id": "YmOvv3k0-clB",
        "outputId": "5aeb7e0f-9613-443e-a66a-88ecb675ecde"
      },
      "outputs": [
        {
          "output_type": "stream",
          "name": "stdout",
          "text": [
            "Please put a single upper or lower case letter from the alphabet: t\n",
            "t : is a consonant\n"
          ]
        }
      ],
      "source": [
        "# New Exercise:\n",
        "#  Write a program that prompts the user to provide a single character from the alphabet.\n",
        "# Print Vowel or Consonant, depending on the user input. If the user input is not a letter (between a and z or A and Z), or is a string of length > 1, print an error message.\n",
        "\n",
        "#First we start with the prompt.\n",
        "\n",
        "character = input(\"Please put a single upper or lower case letter from the alphabet: \")\n",
        "\n",
        "#Next we need data validation.\n",
        "while(len(character) > 1):\n",
        "  character = input(\"Please only put a SINGLE upper or lower case letter from the alphabet: \")\n",
        "while(character.isdigit()):\n",
        "  character = input(\"Please input a LETTER not a number\")\n",
        "\n",
        "#Next we need to determine if the letter is a vowel or consonant. For that we will use a function\n",
        "def isVowel(s):\n",
        "  # We need a flag for truth of vowel\n",
        "  vowel = False\n",
        "\n",
        "  if s == \"a\" or s == \"A\":\n",
        "    vowel = True\n",
        "  elif s == \"e\" or s == \"E\":\n",
        "    vowel = True\n",
        "  elif s == \"i\" or s == \"I\":\n",
        "    vowel = True\n",
        "  elif s == \"o\" or s == \"O\":\n",
        "    vowel = True\n",
        "  elif s == \"u\" or s == \"U\":\n",
        "    vowel = True\n",
        "\n",
        "  return vowel\n",
        "\n",
        "\n",
        "#Now we can check for it.\n",
        "if (isVowel(character)):\n",
        "  print(character, \": is a vowel\")\n",
        "else:\n",
        "  print(character, \": is a consonant\")\n",
        "\n",
        "\n",
        "\n"
      ]
    }
  ]
}