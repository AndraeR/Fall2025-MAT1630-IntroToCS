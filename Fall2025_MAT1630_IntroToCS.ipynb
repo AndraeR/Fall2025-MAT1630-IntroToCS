{
  "nbformat": 4,
  "nbformat_minor": 0,
  "metadata": {
    "colab": {
      "provenance": [],
      "authorship_tag": "ABX9TyMf3GDCJii2SXy3iHnS8WUe",
      "include_colab_link": true
    },
    "kernelspec": {
      "name": "python3",
      "display_name": "Python 3"
    },
    "language_info": {
      "name": "python"
    }
  },
  "cells": [
    {
      "cell_type": "markdown",
      "metadata": {
        "id": "view-in-github",
        "colab_type": "text"
      },
      "source": [
        "<a href=\"https://colab.research.google.com/github/AndraeR/Fall2025-MAT1630-IntroToCS/blob/main/Fall2025_MAT1630_IntroToCS.ipynb\" target=\"_parent\"><img src=\"https://colab.research.google.com/assets/colab-badge.svg\" alt=\"Open In Colab\"/></a>"
      ]
    },
    {
      "cell_type": "code",
      "execution_count": 2,
      "metadata": {
        "colab": {
          "base_uri": "https://localhost:8080/"
        },
        "id": "hxdqVlc1yLJ_",
        "outputId": "36fbe73a-36b0-4b09-edb1-2ef2d5b0bfd2"
      },
      "outputs": [
        {
          "output_type": "stream",
          "name": "stdout",
          "text": [
            "Enter a number ( such as 3.5 or 4.5): 1.1111110\n",
            "Enter a second number: 1.1111111\n",
            "The first number is smaller\n",
            "The numbers are closer together\n",
            "The numbers have the same sign\n"
          ]
        }
      ],
      "source": [
        "x = float(input(\"Enter a number ( such as 3.5 or 4.5): \"))\n",
        "y = float(input(\"Enter a second number: \"))\n",
        "\n",
        "if x == y:\n",
        "  print(\"They are the same.\")\n",
        "else:\n",
        "  if x > y:\n",
        "    print(\"The first number is larger\")\n",
        "  else:\n",
        "    print(\"The first number is smaller\")\n",
        "\n",
        "if -0.01 < x - y and x -y < 0.01:\n",
        "  print(\"The numbers are closer together\")\n",
        "\n",
        "if x == y + 1 or x == y -1:\n",
        "  print (\"The numbers are one apart\")\n",
        "\n",
        "if ( x > 0 and y > 0) or (x < 0 and y < 0):\n",
        "  print(\"The numbers have the same sign\")\n",
        "else:\n",
        "  print(\"The numbers have different signs\")"
      ]
    },
    {
      "cell_type": "code",
      "source": [
        "name = \"California\"\n",
        "\n",
        "print(name == \"california\")\n",
        "\n",
        "print(name.count(\"nia\"))\n",
        "\n",
        "print(name.find(\"ifor\"))\n",
        "\n",
        "print(name.startswith(\"Cali\"))\n",
        "\n",
        "print(name.isspace())\n",
        "\n",
        "print(name.isalnum())\n",
        "\n",
        "print(name.find(\"nia\"))\n",
        "\n"
      ],
      "metadata": {
        "colab": {
          "base_uri": "https://localhost:8080/"
        },
        "id": "0NOh95Jf3V8J",
        "outputId": "a1bb6088-9997-416a-d3e1-beb4330e50b4"
      },
      "execution_count": 14,
      "outputs": [
        {
          "output_type": "stream",
          "name": "stdout",
          "text": [
            "False\n",
            "1\n",
            "3\n",
            "True\n",
            "False\n",
            "True\n",
            "7\n"
          ]
        }
      ]
    },
    {
      "cell_type": "code",
      "source": [
        "#Here we are doing an exercise using python methods related to strings\n",
        "#And are trying to determine whether a string has certain properties:\n",
        "#letters, uppercase, lowercast, digits, period\n",
        "\n",
        "\n",
        "#First we need to prompt the user to give us a string.\n",
        "#For that reason we need a variable and user input\n",
        "\n",
        "word = input(\"Please input a word: \")\n",
        "\n",
        "#Once we have the word we are going to implement simple\n",
        "#decision structures for it\n",
        "\n",
        "#first we check if the word only contains letters\n",
        "if (word.isalpha()):\n",
        "  print(word, \"Only contains letters\")\n",
        "\n",
        "#Next we check if the word only contains uppercase letters\n",
        "if (word.isupper()):\n",
        "  print(word, \"Only has uppercase letters.\")\n",
        "\n",
        "#Next we check if the word only contains lowercase letters\n",
        "if (word.islower()):\n",
        "  print(word, \"Only has lowercase letters.\")\n",
        "\n",
        "#Next we check if the word only contains digits\n",
        "if(word.isdigit()):\n",
        "  print(word, \"Only contains digits\")\n",
        "\n",
        "#Next we check if the word contains letters and digits\n",
        "if(word.isalnum()):\n",
        "  print(word, \"Only contains letters and digits\")\n",
        "\n",
        "#Next to check if it starts with an uppercase\n",
        "if(word[0].isupper()):\n",
        "  print(word, \"Starts with the upper case letter: \", word[0])\n",
        "\n",
        "#Next to check if it ends with a period.\n",
        "if(word.endswith(\".\")):\n",
        "  print(word, \"Ends with a period\")\n",
        "\n"
      ],
      "metadata": {
        "colab": {
          "base_uri": "https://localhost:8080/"
        },
        "id": "0_GIRn3U42WH",
        "outputId": "53e8cca9-0c06-4d6b-a414-c719e17b6f49"
      },
      "execution_count": 30,
      "outputs": [
        {
          "output_type": "stream",
          "name": "stdout",
          "text": [
            "Please input a word: Stems34\n",
            "Stems34 Only contains letters and digits\n",
            "Stems34 Starts with the upper case letter:  S\n"
          ]
        }
      ]
    }
  ]
}